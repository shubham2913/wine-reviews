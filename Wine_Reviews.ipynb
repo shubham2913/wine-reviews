{
 "cells": [
  {
   "cell_type": "code",
   "execution_count": 326,
   "metadata": {},
   "outputs": [],
   "source": [
    "#importing all the essential libraries\n",
    "import pandas as pd\n",
    "import numpy as np\n",
    "from sklearn.preprocessing import LabelEncoder,StandardScaler\n",
    "from sklearn.model_selection import train_test_split\n",
    "import nltk.stem\n",
    "import sys\n",
    "import scipy as sp\n",
    "from nltk.stem import WordNetLemmatizer \n",
    "from nltk.corpus import stopwords\n",
    "from sklearn.feature_extraction.text import CountVectorizer,TfidfVectorizer\n",
    "import string\n",
    "from catboost import CatBoostRegressor\n",
    "from sklearn.linear_model import Ridge,Lasso\n",
    "import matplotlib.pyplot as plt\n",
    "import seaborn as sns\n",
    "from wordcloud import WordCloud,STOPWORDS\n",
    "import re\n",
    "%matplotlib inline"
   ]
  },
  {
   "cell_type": "code",
   "execution_count": 327,
   "metadata": {},
   "outputs": [],
   "source": [
    "#reading data\n",
    "data=pd.read_csv(\"winemag-data-130k-v2.csv\")"
   ]
  },
  {
   "cell_type": "code",
   "execution_count": 328,
   "metadata": {},
   "outputs": [
    {
     "data": {
      "text/plain": [
       "Unnamed: 0                   0\n",
       "country                     63\n",
       "description                  0\n",
       "designation              37465\n",
       "points                       0\n",
       "price                     8996\n",
       "province                    63\n",
       "region_1                 21247\n",
       "region_2                 79460\n",
       "taster_name              26244\n",
       "taster_twitter_handle    31213\n",
       "title                        0\n",
       "variety                      1\n",
       "winery                       0\n",
       "dtype: int64"
      ]
     },
     "execution_count": 328,
     "metadata": {},
     "output_type": "execute_result"
    }
   ],
   "source": [
    "#finding the no. of missing values in each column of the data\n",
    "data.isna().sum()"
   ]
  },
  {
   "cell_type": "code",
   "execution_count": 329,
   "metadata": {},
   "outputs": [
    {
     "data": {
      "image/png": "[encoded data removed]",
      "text/plain": [
       "<Figure size 432x288 with 1 Axes>"
      ]
     },
     "metadata": {
      "needs_background": "light"
     },
     "output_type": "display_data"
    }
   ],
   "source": [
    "#checking the distribution of points for regression analysis\n",
    "points=sns.distplot(data.points)"
   ]
  },
  {
   "cell_type": "code",
   "execution_count": 330,
   "metadata": {},
   "outputs": [
    {
     "data": {
      "image/png": "[encoded data removed]",
      "text/plain": [
       "<Figure size 432x288 with 1 Axes>"
      ]
     },
     "metadata": {
      "needs_background": "light"
     },
     "output_type": "display_data"
    }
   ],
   "source": [
    "#checking the relation of points and price\n",
    "pp=data.groupby(['price'],as_index=False).agg({'points':'mean'})\n",
    "plt.scatter(pp.price,pp.points)\n",
    "plt.title(\"points vs price\")\n",
    "plt.xlabel(\"price\")\n",
    "plt.ylabel(\"points\")\n",
    "plt.savefig(\"pp\")"
   ]
  },
  {
   "cell_type": "code",
   "execution_count": 331,
   "metadata": {},
   "outputs": [],
   "source": [
    "#finding the country for each winery and creating a dictionary\n",
    "data.country.fillna(\"None\",inplace=True)\n",
    "data.province.fillna(\"None\",inplace=True)\n",
    "data.taster_name.fillna(\"None\",inplace=True)\n",
    "wineries=(list(data.winery.unique()))\n",
    "i=0\n",
    "wcp1={}\n",
    "for j in range(data.shape[0]) :\n",
    "    winery=data.iloc[j].winery\n",
    "    if winery in wcp1 :\n",
    "        continue\n",
    "    elif data.iloc[j].country!=\"None\"  :\n",
    "        wcp1[winery]=str(data.iloc[j].country) + \"-\" + str(data.iloc[j].province)\n",
    "        i+=1\n",
    "    if i==len(wineries) :\n",
    "        break"
   ]
  },
  {
   "cell_type": "code",
   "execution_count": 332,
   "metadata": {},
   "outputs": [],
   "source": [
    "#imputing missing country/province values\n",
    "for i in range(data.shape[0]) :\n",
    "    if data.iloc[i].country=='None' and data.iloc[i].winery in wcp1 :\n",
    "        data.at[i,'country']=wcp1[data.iloc[i].winery].split(\"-\")[0]\n",
    "        data.at[i,'province']=wcp1[data.iloc[i].winery].split(\"-\")[1]"
   ]
  },
  {
   "cell_type": "code",
   "execution_count": 333,
   "metadata": {},
   "outputs": [],
   "source": [
    "#imputing taster_name by the most common taster for that country\n",
    "d1={}\n",
    "for country in data.country.unique() :\n",
    "    if country not in d1 :\n",
    "        if data[data.country==country].taster_name.value_counts().idxmax()!='None':\n",
    "            d1[country]=data[data.country==country].taster_name.value_counts().idxmax()\n",
    "        else :\n",
    "            d1[country]=data[data.country==country].taster_name.value_counts().index[1]\n",
    "for i in range(data.shape[0]) :\n",
    "    if data.iloc[i].taster_name=='None' :\n",
    "        data.at[i,'taster_name']=d1[data.iloc[i].country]"
   ]
  },
  {
   "cell_type": "code",
   "execution_count": 334,
   "metadata": {},
   "outputs": [],
   "source": [
    "#replcing the only missing variety by the most common variety by 'Carmen' winery in 'Maipo Valley'\n",
    "data.at[86909,'variety']=data[(data.winery=='Carmen') & (data.province=='Maipo Valley')].variety.value_counts().idxmax()"
   ]
  },
  {
   "cell_type": "code",
   "execution_count": 335,
   "metadata": {},
   "outputs": [],
   "source": [
    "target=data[\"points\"]"
   ]
  },
  {
   "cell_type": "code",
   "execution_count": 336,
   "metadata": {},
   "outputs": [],
   "source": [
    "#creating a dataframe to contain all features except description\n",
    "feature_data=data[['country','province','variety','price','taster_name']]\n",
    "#one hot encoding the categorical variables for linear models.\n",
    "feature_data=pd.get_dummies(feature_data)\n",
    "#fetching the original column for tree model\n",
    "feature_data['country']=data['country']\n",
    "feature_data['province']=data['province']\n",
    "feature_data['variety']=data['variety']\n",
    "feature_data['taster_name']=data['taster_name']\n",
    "feature_data['description']=data['description']\n",
    "feature_data['winery']=data['winery']"
   ]
  },
  {
   "cell_type": "code",
   "execution_count": 187,
   "metadata": {},
   "outputs": [],
   "source": [
    "#using 15% of the entire data as test data\n",
    "train_x,test_x,train_y,test_y=train_test_split(feature_data,target,test_size=0.15)"
   ]
  },
  {
   "cell_type": "code",
   "execution_count": 337,
   "metadata": {},
   "outputs": [
    {
     "name": "stdout",
     "output_type": "stream",
     "text": [
      "   \n"
     ]
    }
   ],
   "source": [
    "#imputing missing price by average price in training data\n",
    "avg_price=train_x.price.mean()\n",
    "train_x.price.fillna(avg_price,inplace=True)\n",
    "test_x.price.fillna(avg_price,inplace=True)\n",
    "train_x['price_2']=train_x['price']**2\n",
    "test_x['price_2']=test_x['price']**2"
   ]
  },
  {
   "cell_type": "code",
   "execution_count": 338,
   "metadata": {},
   "outputs": [
    {
     "name": "stdout",
     "output_type": "stream",
     "text": [
      "  \n"
     ]
    }
   ],
   "source": [
    "#transforming squared price to have 0 mean and 1 std. deviation in train data for ridge regression\n",
    "mean=train_x['price_2'].mean()\n",
    "std=train_x['price_2'].std()\n",
    "train_x['price_2']=(train_x['price_2']-mean)/std\n",
    "test_x['price_2']=(test_x['price_2']-mean)/std"
   ]
  },
  {
   "cell_type": "code",
   "execution_count": 190,
   "metadata": {},
   "outputs": [],
   "source": [
    "#extracting train and test data descriptions\n",
    "train_descriptions=train_x.pop('description')\n",
    "test_descriptions=test_x.pop('description')\n",
    "train_descriptions=list(train_descriptions)\n",
    "test_descriptions=list(test_descriptions)\n",
    "#removing punctuations and digits from train description\n",
    "exclude = set(string.punctuation)\n",
    "exclude_int=[str(i) for i in range(10)]\n",
    "for i in range(0,len(train_descriptions)) :\n",
    "    train_descriptions[i]=\"\".join([c for c in train_descriptions[i] if c not in exclude])\n",
    "    train_descriptions[i]=\"\".join([c for c in train_descriptions[i] if c not in exclude_int])\n",
    "    train_descriptions[i]=train_descriptions[i].lower()\n",
    "#removing punctuations and digits from test description\n",
    "for i in range(0,len(test_descriptions)) :\n",
    "    test_descriptions[i]=\"\".join([c for c in test_descriptions[i] if c not in exclude])\n",
    "    test_descriptions[i]=\"\".join([c for c in test_descriptions[i] if c not in exclude_int])\n",
    "    test_descriptions[i]=test_descriptions[i].lower()"
   ]
  },
  {
   "cell_type": "code",
   "execution_count": 191,
   "metadata": {},
   "outputs": [
    {
     "data": {
      "text/plain": [
       "(110475, 3267)"
      ]
     },
     "execution_count": 191,
     "metadata": {},
     "output_type": "execute_result"
    }
   ],
   "source": [
    "#using TF-IDF vectorizer to extract important words from train description and creating features.\n",
    "lemmatizer = WordNetLemmatizer()\n",
    "english_stemmer=nltk.stem.SnowballStemmer('english')\n",
    "class StemmedTfidfVectorizer(TfidfVectorizer):\n",
    "    def build_analyzer(self):\n",
    "        analyzer = super(TfidfVectorizer,self).build_analyzer()\n",
    "        #return lambda doc: (english_stemmer.stem(w) for w in analyzer(doc))\n",
    "        return lambda doc: (lemmatizer.lemmatize(w) for w in analyzer(doc))\n",
    "vectorizer = StemmedTfidfVectorizer(min_df=50, max_df=0.8,stop_words='english',decode_error='ignore')\n",
    "train_text_features=vectorizer.fit_transform(train_descriptions).toarray()\n",
    "train_text_features.shape"
   ]
  },
  {
   "cell_type": "code",
   "execution_count": 192,
   "metadata": {},
   "outputs": [
    {
     "data": {
      "text/plain": [
       "(19496, 3267)"
      ]
     },
     "execution_count": 192,
     "metadata": {},
     "output_type": "execute_result"
    }
   ],
   "source": [
    "#using the TF-IDF vectorizer to transform test descriptions into word features\n",
    "test_text_features=vectorizer.transform(test_descriptions).toarray()\n",
    "test_text_features.shape"
   ]
  },
  {
   "cell_type": "code",
   "execution_count": 193,
   "metadata": {},
   "outputs": [],
   "source": [
    "#creating separate dataframes for linear and tree model\n",
    "train_x_label_encode=pd.DataFrame()\n",
    "test_x_label_encode=pd.DataFrame()\n",
    "train_x_onehot_encode=pd.DataFrame()\n",
    "test_x_onehot_encode=pd.DataFrame()\n",
    "for column in train_x.columns :\n",
    "    if column in ['country','province','variety','taster_name','price','winery']:\n",
    "        train_x_label_encode[column]=train_x[column]\n",
    "        test_x_label_encode[column]=test_x[column]\n",
    "    else :\n",
    "        train_x_onehot_encode[column]=train_x[column]\n",
    "        test_x_onehot_encode[column]=test_x[column]       "
   ]
  },
  {
   "cell_type": "code",
   "execution_count": 194,
   "metadata": {},
   "outputs": [],
   "source": [
    "#merging data features and text features\n",
    "train_x_tree=np.append(train_text_features,np.array(train_x_label_encode),1)\n",
    "test_x_tree=np.append(test_text_features,np.array(test_x_label_encode),1)\n",
    "train_x_linear=np.append(train_text_features,np.array(train_x_onehot_encode),1)\n",
    "test_x_linear=np.append(test_text_features,np.array(test_x_onehot_encode),1)"
   ]
  },
  {
   "cell_type": "code",
   "execution_count": 195,
   "metadata": {},
   "outputs": [],
   "source": [
    "#creating cross validation set from training data by selecting 20% data.\n",
    "x_train_tree,x_cv_tree,y_train_tree,y_cv_tree=train_test_split(train_x_tree,\n",
    "                                                train_y,test_size=0.2)\n",
    "x_train_linear,x_cv_linear,y_train_linear,y_cv_linear=train_test_split(\n",
    "    train_x_linear,train_y,test_size=0.2)"
   ]
  },
  {
   "cell_type": "code",
   "execution_count": 196,
   "metadata": {},
   "outputs": [],
   "source": [
    "#tuning regularization parameter for ridge regression using cross-validation\n",
    "alpha_list=np.linspace(0.1,1,10)\n",
    "rmse_alpha=[]\n",
    "rmse_alpha_train=[]\n",
    "for a in alpha_list :\n",
    "    ridge_temp=Ridge(alpha=a)\n",
    "    ridge_temp.fit(x_train_linear,y_train_linear)\n",
    "    y_temp=ridge_temp.predict(x_cv_linear)\n",
    "    acc=0\n",
    "    for i in range(y_temp.shape[0]) :\n",
    "        acc+=(y_temp[i]-y_cv_linear.iloc[i])**2\n",
    "    rmse_temp=np.sqrt(acc/y_temp.shape[0])\n",
    "    rmse_alpha.append(rmse_temp)\n",
    "    y_temp_linear=ridge_temp.predict(x_train_linear)\n",
    "    acc=0\n",
    "    for i in range(y_temp_linear.shape[0]) :\n",
    "        acc+=(y_temp_linear[i]-y_train_linear.iloc[i])**2\n",
    "    rmse_temp=np.sqrt(acc/y_temp_linear.shape[0])\n",
    "    rmse_alpha_train.append(rmse_temp)"
   ]
  },
  {
   "cell_type": "code",
   "execution_count": 197,
   "metadata": {},
   "outputs": [
    {
     "data": {
      "image/png": "[encoded data removed]",
      "text/plain": [
       "<Figure size 432x288 with 1 Axes>"
      ]
     },
     "metadata": {
      "needs_background": "light"
     },
     "output_type": "display_data"
    }
   ],
   "source": [
    "plt.scatter(alpha_list,rmse_alpha)\n",
    "plt.title(\"cross-validation rmse vs lambda\")\n",
    "plt.xlabel(\"lambda\")\n",
    "plt.ylabel(\"cross-validation rmse\")\n",
    "plt.savefig(\"alpha-cross-validation\")"
   ]
  },
  {
   "cell_type": "code",
   "execution_count": 198,
   "metadata": {},
   "outputs": [
    {
     "data": {
      "image/png": "[encoded data removed]",
      "text/plain": [
       "<Figure size 432x288 with 1 Axes>"
      ]
     },
     "metadata": {
      "needs_background": "light"
     },
     "output_type": "display_data"
    }
   ],
   "source": [
    "plt.scatter(alpha_list,rmse_alpha_train)\n",
    "plt.title(\"train rmse vs lambda\")\n",
    "plt.xlabel(\"lambda\")\n",
    "plt.ylabel(\"train rmse\")\n",
    "plt.savefig(\"alpha-train\")"
   ]
  },
  {
   "cell_type": "code",
   "execution_count": 199,
   "metadata": {},
   "outputs": [
    {
     "name": "stdout",
     "output_type": "stream",
     "text": [
      "rmse on train data -  1.580489383210802\n",
      "rmse on test data -  1.6587275574045603\n"
     ]
    }
   ],
   "source": [
    "#final ridge model with lambda=0.5\n",
    "ridge_final=Ridge(alpha=0.5)\n",
    "ridge_final.fit(train_x_linear,train_y)\n",
    "y_pred_ridge_train=ridge_final.predict(train_x_linear)\n",
    "#calculating rmse for train data\n",
    "acc=0\n",
    "for i in range(y_pred_ridge_train.shape[0]) :\n",
    "    acc+=(y_pred_ridge_train[i]-train_y.iloc[i])**2\n",
    "rmse_ridge_train=np.sqrt(acc/y_pred_ridge_train.shape[0])\n",
    "print(\"rmse on train data - \", rmse_ridge_train)\n",
    "y_pred_ridge=ridge_final.predict(test_x_linear)\n",
    "#calculating rmse for test data\n",
    "acc=0\n",
    "for i in range(y_pred_ridge.shape[0]) :\n",
    "    acc+=(y_pred_ridge[i]-test_y.iloc[i])**2\n",
    "rmse_ridge_test=np.sqrt(acc/y_pred_ridge.shape[0])\n",
    "print(\"rmse on test data - \", rmse_ridge_test)"
   ]
  },
  {
   "cell_type": "code",
   "execution_count": 258,
   "metadata": {},
   "outputs": [
    {
     "name": "stdout",
     "output_type": "stream",
     "text": [
      " \n"
     ]
    }
   ],
   "source": [
    "#tuning learning_rate parameter for gradient boosting regression using cross-validation\n",
    "learning_rate_list=[0.2,0.4,0.6,0.8,1]\n",
    "rmse_learning_rate=[]\n",
    "for lr in learning_rate_list :\n",
    "    cat_temp=CatBoostRegressor(num_trees=350,learning_rate=lr,\n",
    "                cat_features=[3268,3269,3270,3271,3272],silent=True)\n",
    "    cat_temp.fit(x_train_tree,y_train_tree,verbose=False)\n",
    "    y_temp=cat_temp.predict(x_cv_tree)\n",
    "    acc=0\n",
    "    for i in range(y_temp.shape[0]) :\n",
    "        acc+=(y_temp[i]-y_cv_tree.iloc[i])**2\n",
    "    rmse_temp=np.sqrt(acc/y_temp.shape[0])\n",
    "    rmse_learning_rate.append(rmse_temp)"
   ]
  },
  {
   "cell_type": "code",
   "execution_count": 213,
   "metadata": {},
   "outputs": [
    {
     "data": {
      "image/png": "[encoded data removed]",
      "text/plain": [
       "<Figure size 432x288 with 1 Axes>"
      ]
     },
     "metadata": {
      "needs_background": "light"
     },
     "output_type": "display_data"
    }
   ],
   "source": [
    "plt.scatter(learning_rate_list,rmse_learning_rate)\n",
    "plt.title(\"cross-validation rmse vs learning rate\")\n",
    "plt.xlabel(\"learning rate\")\n",
    "plt.ylabel(\"cross-validation rmse\")\n",
    "plt.savefig(\"lr-train\")"
   ]
  },
  {
   "cell_type": "code",
   "execution_count": 257,
   "metadata": {},
   "outputs": [
    {
     "name": "stdout",
     "output_type": "stream",
     "text": [
      "    \n"
     ]
    }
   ],
   "source": [
    "#tuning max_depth parameter for gradient boosting regression using cross-validation\n",
    "max_depth_list=[2,4,6,8]\n",
    "rmse_max_depth=[]\n",
    "for md in max_depth_list :\n",
    "    cat_temp=CatBoostRegressor(num_trees=350,learning_rate=0.4,max_depth=md,cat_features=[3268,3269,3270,3271,3272],silent=True)\n",
    "    cat_temp.fit(x_train_tree,y_train_tree,verbose=False)\n",
    "    y_temp=cat_temp.predict(x_cv_tree)\n",
    "    acc=0\n",
    "    for i in range(y_temp.shape[0]) :\n",
    "        acc+=(y_temp[i]-y_cv_tree.iloc[i])**2\n",
    "    rmse_temp=np.sqrt(acc/y_temp.shape[0])\n",
    "    rmse_max_depth.append(rmse_temp)"
   ]
  },
  {
   "cell_type": "code",
   "execution_count": 218,
   "metadata": {},
   "outputs": [
    {
     "data": {
      "image/png": "[encoded data removed]",
      "text/plain": [
       "<Figure size 432x288 with 1 Axes>"
      ]
     },
     "metadata": {
      "needs_background": "light"
     },
     "output_type": "display_data"
    }
   ],
   "source": [
    "plt.scatter(max_depth_list,rmse_max_depth)\n",
    "plt.title(\"cross-validation rmse vs max depth\")\n",
    "plt.xlabel(\"max depth\")\n",
    "plt.ylabel(\"cross-validation rmse\")\n",
    "plt.savefig(\"md-train\")"
   ]
  },
  {
   "cell_type": "code",
   "execution_count": 255,
   "metadata": {},
   "outputs": [
    {
     "name": "stdout",
     "output_type": "stream",
     "text": [
      "rmse on train data -  1.2528776242396162\n",
      "rmse on test data -  1.4344652692837343\n"
     ]
    }
   ],
   "source": [
    "#final model with learning_rate = 0.4 and max_depth = 8\n",
    "cat_boost_final=CatBoostRegressor(num_trees=350,learning_rate=0.4,max_depth=8,cat_features=[3268,3269,3270,3271,3272],silent=True)\n",
    "cat_boost_final.fit(train_x_tree,train_y,verbose=False)\n",
    "y_pred_cat_train=cat_boost_final.predict(train_x_tree)\n",
    "#calculating rmse for train data\n",
    "acc=0\n",
    "for i in range(y_pred_cat_train.shape[0]) :\n",
    "    acc+=(y_pred_cat_train[i]-train_y.iloc[i])**2\n",
    "rmse_cat_train=np.sqrt(acc/y_pred_cat_train.shape[0])\n",
    "print(\"rmse on train data - \", rmse_cat_train)\n",
    "y_pred_cat=cat_boost_final.predict(test_x_tree)\n",
    "#calculating rmse for test data\n",
    "acc=0\n",
    "for i in range(y_pred_cat.shape[0]) :\n",
    "    acc+=(y_pred_cat[i]-test_y.iloc[i])**2\n",
    "rmse_cat_test=np.sqrt(acc/y_pred_cat.shape[0])\n",
    "print(\"rmse on test data - \", rmse_cat_test)\n",
    "print(\"rmse on train data -  1.2528776242396162\")\n",
    "print(\"rmse on test data -  1.4344652692837343\")"
   ]
  },
  {
   "cell_type": "code",
   "execution_count": 251,
   "metadata": {},
   "outputs": [
    {
     "data": {
      "text/html": [
       "<div>\n",
       "<style scoped>\n",
       "    .dataframe tbody tr th:only-of-type {\n",
       "        vertical-align: middle;\n",
       "    }\n",
       "\n",
       "    .dataframe tbody tr th {\n",
       "        vertical-align: top;\n",
       "    }\n",
       "\n",
       "    .dataframe thead th {\n",
       "        text-align: right;\n",
       "    }\n",
       "</style>\n",
       "<table border=\"1\" class=\"dataframe\">\n",
       "  <thead>\n",
       "    <tr style=\"text-align: right;\">\n",
       "      <th></th>\n",
       "      <th>Feature Id</th>\n",
       "      <th>Importances</th>\n",
       "    </tr>\n",
       "  </thead>\n",
       "  <tbody>\n",
       "    <tr>\n",
       "      <th>0</th>\n",
       "      <td>3267</td>\n",
       "      <td>22.453273</td>\n",
       "    </tr>\n",
       "    <tr>\n",
       "      <th>1</th>\n",
       "      <td>3271</td>\n",
       "      <td>7.072816</td>\n",
       "    </tr>\n",
       "    <tr>\n",
       "      <th>2</th>\n",
       "      <td>3272</td>\n",
       "      <td>6.889806</td>\n",
       "    </tr>\n",
       "    <tr>\n",
       "      <th>3</th>\n",
       "      <td>3268</td>\n",
       "      <td>2.479912</td>\n",
       "    </tr>\n",
       "    <tr>\n",
       "      <th>4</th>\n",
       "      <td>868</td>\n",
       "      <td>2.195597</td>\n",
       "    </tr>\n",
       "    <tr>\n",
       "      <th>5</th>\n",
       "      <td>3269</td>\n",
       "      <td>1.857122</td>\n",
       "    </tr>\n",
       "    <tr>\n",
       "      <th>6</th>\n",
       "      <td>2388</td>\n",
       "      <td>1.690681</td>\n",
       "    </tr>\n",
       "    <tr>\n",
       "      <th>7</th>\n",
       "      <td>1114</td>\n",
       "      <td>1.570879</td>\n",
       "    </tr>\n",
       "    <tr>\n",
       "      <th>8</th>\n",
       "      <td>2663</td>\n",
       "      <td>1.306845</td>\n",
       "    </tr>\n",
       "    <tr>\n",
       "      <th>9</th>\n",
       "      <td>607</td>\n",
       "      <td>1.200430</td>\n",
       "    </tr>\n",
       "  </tbody>\n",
       "</table>\n",
       "</div>"
      ],
      "text/plain": [
       "  Feature Id  Importances\n",
       "0       3267    22.453273\n",
       "1       3271     7.072816\n",
       "2       3272     6.889806\n",
       "3       3268     2.479912\n",
       "4        868     2.195597\n",
       "5       3269     1.857122\n",
       "6       2388     1.690681\n",
       "7       1114     1.570879\n",
       "8       2663     1.306845\n",
       "9        607     1.200430"
      ]
     },
     "execution_count": 251,
     "metadata": {},
     "output_type": "execute_result"
    }
   ],
   "source": [
    "#getting feature importance\n",
    "cat_boost_final.get_feature_importance(prettified=True)[0:10]"
   ]
  },
  {
   "cell_type": "code",
   "execution_count": 291,
   "metadata": {},
   "outputs": [
    {
     "data": {
      "text/plain": [
       "(1356, 14)"
      ]
     },
     "execution_count": 291,
     "metadata": {},
     "output_type": "execute_result"
    }
   ],
   "source": [
    "#filtered the data to get Pinot Noir wines which have fruity taste(‘fruit’ keyword in description) and \n",
    "#price less than 20 dollars\n",
    "pinot_noir_data=data[(data.variety=='Pinot Noir') & (data.price < 20)]\n",
    "pinot_noir_data.shape"
   ]
  },
  {
   "cell_type": "code",
   "execution_count": 292,
   "metadata": {},
   "outputs": [
    {
     "data": {
      "text/plain": [
       "550"
      ]
     },
     "execution_count": 292,
     "metadata": {},
     "output_type": "execute_result"
    }
   ],
   "source": [
    "fruity=[]\n",
    "for i in range(pinot_noir_data.shape[0]) :\n",
    "    if 'fruit' in pinot_noir_data.iloc[i].description :\n",
    "        fruity.append(i)\n",
    "len(fruity)"
   ]
  },
  {
   "cell_type": "code",
   "execution_count": 293,
   "metadata": {},
   "outputs": [
    {
     "data": {
      "text/plain": [
       "(550, 14)"
      ]
     },
     "execution_count": 293,
     "metadata": {},
     "output_type": "execute_result"
    }
   ],
   "source": [
    "fruit_data=pinot_noir_data.iloc[fruity]\n",
    "fruit_data.shape"
   ]
  },
  {
   "cell_type": "code",
   "execution_count": 339,
   "metadata": {},
   "outputs": [
    {
     "name": "stdout",
     "output_type": "stream",
     "text": [
      " \n"
     ]
    }
   ],
   "source": [
    "#extracting year of wine from title. In case year is not available, I give garbage value of 0\n",
    "pattern=re.compile('[1-2][0-9]{3}')\n",
    "year_list=[]\n",
    "for title in fruit_data.title :\n",
    "    l=pattern.findall(title)\n",
    "    if len(l) > 0 :\n",
    "        year_list.append(int(l[0]))\n",
    "    else :\n",
    "        year_list.append(0)\n",
    "fruit_data['year']=year_list"
   ]
  },
  {
   "cell_type": "code",
   "execution_count": 307,
   "metadata": {},
   "outputs": [],
   "source": [
    "#sorting wines by year\n",
    "fruit_data_sorted=fruit_data[fruit_data.year!=0].sort_values(by=['year'])"
   ]
  },
  {
   "cell_type": "code",
   "execution_count": 308,
   "metadata": {},
   "outputs": [],
   "source": [
    "years=fruit_data_sorted.year.unique()[0:5]"
   ]
  },
  {
   "cell_type": "code",
   "execution_count": 312,
   "metadata": {},
   "outputs": [
    {
     "data": {
      "text/plain": [
       "{'1997': 'Camelot',\n",
       " '1998': 'Schug-Bridgeview',\n",
       " '1999': 'Schug-Firesteed',\n",
       " '2000': 'Charles Krug',\n",
       " '2001': 'Sebastiani-River Road'}"
      ]
     },
     "execution_count": 312,
     "metadata": {},
     "output_type": "execute_result"
    }
   ],
   "source": [
    "#extracting most aged wines. In case multiple wines are present with same points for a particular year, \n",
    "#anyone can be recommended\n",
    "wineries={}\n",
    "for year in years :\n",
    "    df_temp=fruit_data_sorted[fruit_data_sorted.year==year]\n",
    "    d1=df_temp.sort_values(by=['points'],ascending=False)\n",
    "    wineries[str(year)]=(d1.iloc[0].winery)\n",
    "    if d1.shape[0]>1 :\n",
    "        wineries[str(year)]=wineries[str(year)]+\"-\"+d1.iloc[1].winery\n",
    "wineries"
   ]
  }
 ],
 "metadata": {
  "kernelspec": {
   "display_name": "Python 3",
   "language": "python",
   "name": "python3"
  },
  "language_info": {
   "codemirror_mode": {
    "name": "ipython",
    "version": 3
   },
   "file_extension": ".py",
   "mimetype": "text/x-python",
   "name": "python",
   "nbconvert_exporter": "python",
   "pygments_lexer": "ipython3",
   "version": "3.7.3"
  }
 },
 "nbformat": 4,
 "nbformat_minor": 2
}
